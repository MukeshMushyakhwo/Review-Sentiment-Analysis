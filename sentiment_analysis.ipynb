{
  "cells": [
    {
      "cell_type": "code",
      "execution_count": 1,
      "metadata": {
        "colab": {
          "base_uri": "https://localhost:8080/"
        },
        "id": "OmVKXGAUMCdB",
        "outputId": "eefddd64-a095-4dec-f3d9-c6fc1da63630"
      },
      "outputs": [
        {
          "output_type": "stream",
          "name": "stdout",
          "text": [
            "Downloading...\n",
            "From: https://drive.google.com/uc?id=1_JycQl_WP8jBlU24k9USI4MstAooXovq\n",
            "To: /content/imdb_reviews.csv\n",
            "100% 31.7M/31.7M [00:00<00:00, 210MB/s]\n",
            "Downloading...\n",
            "From: https://drive.google.com/uc?id=1lg3ELpSs162URKNF4lYSmA_W7Lifxtd0\n",
            "To: /content/test_reviews.csv\n",
            "100% 30.5M/30.5M [00:00<00:00, 233MB/s]\n"
          ]
        }
      ],
      "source": [
        "# Dataset\n",
        "!gdown  1_JycQl_WP8jBlU24k9USI4MstAooXovq\n",
        "!gdown 1lg3ELpSs162URKNF4lYSmA_W7Lifxtd0"
      ]
    },
    {
      "cell_type": "code",
      "execution_count": 2,
      "metadata": {
        "id": "LBCb3fG5MCdE"
      },
      "outputs": [],
      "source": [
        "import pandas as pd\n",
        "import numpy as np\n",
        "from sklearn.linear_model import LogisticRegression\n",
        "from sklearn.metrics import confusion_matrix, classification_report\n",
        "from sklearn.feature_extraction.text import TfidfVectorizer\n",
        "from nltk.tokenize import word_tokenize\n"
      ]
    },
    {
      "cell_type": "code",
      "execution_count": 3,
      "metadata": {
        "id": "6O-hYCF6MCdE"
      },
      "outputs": [],
      "source": [
        "# Load data\n",
        "train_data = pd.read_csv(\"/content/imdb_reviews.csv\")\n",
        "test_data = pd.read_csv(\"/content/test_reviews.csv\")\n"
      ]
    },
    {
      "cell_type": "code",
      "source": [
        "train_data.info()"
      ],
      "metadata": {
        "id": "3mSsJiNuAtq8",
        "outputId": "e2455249-e3b4-4cf4-9b96-8eadd2420c52",
        "colab": {
          "base_uri": "https://localhost:8080/"
        }
      },
      "execution_count": 4,
      "outputs": [
        {
          "output_type": "stream",
          "name": "stdout",
          "text": [
            "<class 'pandas.core.frame.DataFrame'>\n",
            "RangeIndex: 25000 entries, 0 to 24999\n",
            "Data columns (total 2 columns):\n",
            " #   Column     Non-Null Count  Dtype \n",
            "---  ------     --------------  ----- \n",
            " 0   Reviews    25000 non-null  object\n",
            " 1   Sentiment  25000 non-null  object\n",
            "dtypes: object(2)\n",
            "memory usage: 390.8+ KB\n"
          ]
        }
      ]
    },
    {
      "cell_type": "code",
      "execution_count": 5,
      "metadata": {
        "colab": {
          "base_uri": "https://localhost:8080/",
          "height": 423
        },
        "id": "GTdL9cBOMCdF",
        "outputId": "6001d587-b9bc-4957-b376-15f45eb2bce2"
      },
      "outputs": [
        {
          "output_type": "execute_result",
          "data": {
            "text/plain": [
              "                                                 Reviews Sentiment  value\n",
              "0      <START this film was just brilliant casting lo...  positive      1\n",
              "1      <START big hair big boobs bad music and a gian...  negative      0\n",
              "2      <START this has to be one of the worst films o...  negative      0\n",
              "3      <START the <UNK> <UNK> at storytelling the tra...  positive      1\n",
              "4      <START worst mistake of my life br br i picked...  negative      0\n",
              "...                                                  ...       ...    ...\n",
              "24995  <START this is a racist movie but worthy of st...  positive      1\n",
              "24996  <START bela lugosi plays a doctor who will do ...  negative      0\n",
              "24997  <START in a far away galaxy is a planet called...  negative      0\n",
              "24998  <START six degrees had me hooked i looked forw...  positive      1\n",
              "24999  <START as a big fan of the original film it's ...  negative      0\n",
              "\n",
              "[25000 rows x 3 columns]"
            ],
            "text/html": [
              "\n",
              "\n",
              "  <div id=\"df-b2989e6e-1205-4f9d-b42b-5cf4af2c0d80\">\n",
              "    <div class=\"colab-df-container\">\n",
              "      <div>\n",
              "<style scoped>\n",
              "    .dataframe tbody tr th:only-of-type {\n",
              "        vertical-align: middle;\n",
              "    }\n",
              "\n",
              "    .dataframe tbody tr th {\n",
              "        vertical-align: top;\n",
              "    }\n",
              "\n",
              "    .dataframe thead th {\n",
              "        text-align: right;\n",
              "    }\n",
              "</style>\n",
              "<table border=\"1\" class=\"dataframe\">\n",
              "  <thead>\n",
              "    <tr style=\"text-align: right;\">\n",
              "      <th></th>\n",
              "      <th>Reviews</th>\n",
              "      <th>Sentiment</th>\n",
              "      <th>value</th>\n",
              "    </tr>\n",
              "  </thead>\n",
              "  <tbody>\n",
              "    <tr>\n",
              "      <th>0</th>\n",
              "      <td>&lt;START this film was just brilliant casting lo...</td>\n",
              "      <td>positive</td>\n",
              "      <td>1</td>\n",
              "    </tr>\n",
              "    <tr>\n",
              "      <th>1</th>\n",
              "      <td>&lt;START big hair big boobs bad music and a gian...</td>\n",
              "      <td>negative</td>\n",
              "      <td>0</td>\n",
              "    </tr>\n",
              "    <tr>\n",
              "      <th>2</th>\n",
              "      <td>&lt;START this has to be one of the worst films o...</td>\n",
              "      <td>negative</td>\n",
              "      <td>0</td>\n",
              "    </tr>\n",
              "    <tr>\n",
              "      <th>3</th>\n",
              "      <td>&lt;START the &lt;UNK&gt; &lt;UNK&gt; at storytelling the tra...</td>\n",
              "      <td>positive</td>\n",
              "      <td>1</td>\n",
              "    </tr>\n",
              "    <tr>\n",
              "      <th>4</th>\n",
              "      <td>&lt;START worst mistake of my life br br i picked...</td>\n",
              "      <td>negative</td>\n",
              "      <td>0</td>\n",
              "    </tr>\n",
              "    <tr>\n",
              "      <th>...</th>\n",
              "      <td>...</td>\n",
              "      <td>...</td>\n",
              "      <td>...</td>\n",
              "    </tr>\n",
              "    <tr>\n",
              "      <th>24995</th>\n",
              "      <td>&lt;START this is a racist movie but worthy of st...</td>\n",
              "      <td>positive</td>\n",
              "      <td>1</td>\n",
              "    </tr>\n",
              "    <tr>\n",
              "      <th>24996</th>\n",
              "      <td>&lt;START bela lugosi plays a doctor who will do ...</td>\n",
              "      <td>negative</td>\n",
              "      <td>0</td>\n",
              "    </tr>\n",
              "    <tr>\n",
              "      <th>24997</th>\n",
              "      <td>&lt;START in a far away galaxy is a planet called...</td>\n",
              "      <td>negative</td>\n",
              "      <td>0</td>\n",
              "    </tr>\n",
              "    <tr>\n",
              "      <th>24998</th>\n",
              "      <td>&lt;START six degrees had me hooked i looked forw...</td>\n",
              "      <td>positive</td>\n",
              "      <td>1</td>\n",
              "    </tr>\n",
              "    <tr>\n",
              "      <th>24999</th>\n",
              "      <td>&lt;START as a big fan of the original film it's ...</td>\n",
              "      <td>negative</td>\n",
              "      <td>0</td>\n",
              "    </tr>\n",
              "  </tbody>\n",
              "</table>\n",
              "<p>25000 rows × 3 columns</p>\n",
              "</div>\n",
              "      <button class=\"colab-df-convert\" onclick=\"convertToInteractive('df-b2989e6e-1205-4f9d-b42b-5cf4af2c0d80')\"\n",
              "              title=\"Convert this dataframe to an interactive table.\"\n",
              "              style=\"display:none;\">\n",
              "\n",
              "  <svg xmlns=\"http://www.w3.org/2000/svg\" height=\"24px\"viewBox=\"0 0 24 24\"\n",
              "       width=\"24px\">\n",
              "    <path d=\"M0 0h24v24H0V0z\" fill=\"none\"/>\n",
              "    <path d=\"M18.56 5.44l.94 2.06.94-2.06 2.06-.94-2.06-.94-.94-2.06-.94 2.06-2.06.94zm-11 1L8.5 8.5l.94-2.06 2.06-.94-2.06-.94L8.5 2.5l-.94 2.06-2.06.94zm10 10l.94 2.06.94-2.06 2.06-.94-2.06-.94-.94-2.06-.94 2.06-2.06.94z\"/><path d=\"M17.41 7.96l-1.37-1.37c-.4-.4-.92-.59-1.43-.59-.52 0-1.04.2-1.43.59L10.3 9.45l-7.72 7.72c-.78.78-.78 2.05 0 2.83L4 21.41c.39.39.9.59 1.41.59.51 0 1.02-.2 1.41-.59l7.78-7.78 2.81-2.81c.8-.78.8-2.07 0-2.86zM5.41 20L4 18.59l7.72-7.72 1.47 1.35L5.41 20z\"/>\n",
              "  </svg>\n",
              "      </button>\n",
              "\n",
              "\n",
              "\n",
              "    <div id=\"df-83f475ed-555b-4749-8a9f-809e96b5cf6f\">\n",
              "      <button class=\"colab-df-quickchart\" onclick=\"quickchart('df-83f475ed-555b-4749-8a9f-809e96b5cf6f')\"\n",
              "              title=\"Suggest charts.\"\n",
              "              style=\"display:none;\">\n",
              "\n",
              "<svg xmlns=\"http://www.w3.org/2000/svg\" height=\"24px\"viewBox=\"0 0 24 24\"\n",
              "     width=\"24px\">\n",
              "    <g>\n",
              "        <path d=\"M19 3H5c-1.1 0-2 .9-2 2v14c0 1.1.9 2 2 2h14c1.1 0 2-.9 2-2V5c0-1.1-.9-2-2-2zM9 17H7v-7h2v7zm4 0h-2V7h2v10zm4 0h-2v-4h2v4z\"/>\n",
              "    </g>\n",
              "</svg>\n",
              "      </button>\n",
              "    </div>\n",
              "\n",
              "<style>\n",
              "  .colab-df-quickchart {\n",
              "    background-color: #E8F0FE;\n",
              "    border: none;\n",
              "    border-radius: 50%;\n",
              "    cursor: pointer;\n",
              "    display: none;\n",
              "    fill: #1967D2;\n",
              "    height: 32px;\n",
              "    padding: 0 0 0 0;\n",
              "    width: 32px;\n",
              "  }\n",
              "\n",
              "  .colab-df-quickchart:hover {\n",
              "    background-color: #E2EBFA;\n",
              "    box-shadow: 0px 1px 2px rgba(60, 64, 67, 0.3), 0px 1px 3px 1px rgba(60, 64, 67, 0.15);\n",
              "    fill: #174EA6;\n",
              "  }\n",
              "\n",
              "  [theme=dark] .colab-df-quickchart {\n",
              "    background-color: #3B4455;\n",
              "    fill: #D2E3FC;\n",
              "  }\n",
              "\n",
              "  [theme=dark] .colab-df-quickchart:hover {\n",
              "    background-color: #434B5C;\n",
              "    box-shadow: 0px 1px 3px 1px rgba(0, 0, 0, 0.15);\n",
              "    filter: drop-shadow(0px 1px 2px rgba(0, 0, 0, 0.3));\n",
              "    fill: #FFFFFF;\n",
              "  }\n",
              "</style>\n",
              "\n",
              "    <script>\n",
              "      async function quickchart(key) {\n",
              "        const containerElement = document.querySelector('#' + key);\n",
              "        const charts = await google.colab.kernel.invokeFunction(\n",
              "            'suggestCharts', [key], {});\n",
              "      }\n",
              "    </script>\n",
              "\n",
              "      <script>\n",
              "\n",
              "function displayQuickchartButton(domScope) {\n",
              "  let quickchartButtonEl =\n",
              "    domScope.querySelector('#df-83f475ed-555b-4749-8a9f-809e96b5cf6f button.colab-df-quickchart');\n",
              "  quickchartButtonEl.style.display =\n",
              "    google.colab.kernel.accessAllowed ? 'block' : 'none';\n",
              "}\n",
              "\n",
              "        displayQuickchartButton(document);\n",
              "      </script>\n",
              "      <style>\n",
              "    .colab-df-container {\n",
              "      display:flex;\n",
              "      flex-wrap:wrap;\n",
              "      gap: 12px;\n",
              "    }\n",
              "\n",
              "    .colab-df-convert {\n",
              "      background-color: #E8F0FE;\n",
              "      border: none;\n",
              "      border-radius: 50%;\n",
              "      cursor: pointer;\n",
              "      display: none;\n",
              "      fill: #1967D2;\n",
              "      height: 32px;\n",
              "      padding: 0 0 0 0;\n",
              "      width: 32px;\n",
              "    }\n",
              "\n",
              "    .colab-df-convert:hover {\n",
              "      background-color: #E2EBFA;\n",
              "      box-shadow: 0px 1px 2px rgba(60, 64, 67, 0.3), 0px 1px 3px 1px rgba(60, 64, 67, 0.15);\n",
              "      fill: #174EA6;\n",
              "    }\n",
              "\n",
              "    [theme=dark] .colab-df-convert {\n",
              "      background-color: #3B4455;\n",
              "      fill: #D2E3FC;\n",
              "    }\n",
              "\n",
              "    [theme=dark] .colab-df-convert:hover {\n",
              "      background-color: #434B5C;\n",
              "      box-shadow: 0px 1px 3px 1px rgba(0, 0, 0, 0.15);\n",
              "      filter: drop-shadow(0px 1px 2px rgba(0, 0, 0, 0.3));\n",
              "      fill: #FFFFFF;\n",
              "    }\n",
              "  </style>\n",
              "\n",
              "      <script>\n",
              "        const buttonEl =\n",
              "          document.querySelector('#df-b2989e6e-1205-4f9d-b42b-5cf4af2c0d80 button.colab-df-convert');\n",
              "        buttonEl.style.display =\n",
              "          google.colab.kernel.accessAllowed ? 'block' : 'none';\n",
              "\n",
              "        async function convertToInteractive(key) {\n",
              "          const element = document.querySelector('#df-b2989e6e-1205-4f9d-b42b-5cf4af2c0d80');\n",
              "          const dataTable =\n",
              "            await google.colab.kernel.invokeFunction('convertToInteractive',\n",
              "                                                     [key], {});\n",
              "          if (!dataTable) return;\n",
              "\n",
              "          const docLinkHtml = 'Like what you see? Visit the ' +\n",
              "            '<a target=\"_blank\" href=https://colab.research.google.com/notebooks/data_table.ipynb>data table notebook</a>'\n",
              "            + ' to learn more about interactive tables.';\n",
              "          element.innerHTML = '';\n",
              "          dataTable['output_type'] = 'display_data';\n",
              "          await google.colab.output.renderOutput(dataTable, element);\n",
              "          const docLink = document.createElement('div');\n",
              "          docLink.innerHTML = docLinkHtml;\n",
              "          element.appendChild(docLink);\n",
              "        }\n",
              "      </script>\n",
              "    </div>\n",
              "  </div>\n"
            ]
          },
          "metadata": {},
          "execution_count": 5
        }
      ],
      "source": [
        "train_data['value'] = np.where(train_data['Sentiment']== 'positive', 1, 0)\n",
        "test_data['value'] = np.where(test_data['Sentiment']== 'positive', 1, 0)\n",
        "train_data"
      ]
    },
    {
      "cell_type": "code",
      "execution_count": 6,
      "metadata": {
        "id": "tfX6zlL-MCdG"
      },
      "outputs": [],
      "source": [
        "x_train = train_data['Reviews']\n",
        "y_train = train_data['value']\n",
        "x_test = test_data['Reviews']\n",
        "y_test = test_data['value']"
      ]
    },
    {
      "cell_type": "code",
      "execution_count": 7,
      "metadata": {
        "colab": {
          "base_uri": "https://localhost:8080/"
        },
        "id": "xykiljJlMCdG",
        "outputId": "c7812fa3-682a-4f96-a386-27c6f7aa6e8f"
      },
      "outputs": [
        {
          "output_type": "stream",
          "name": "stderr",
          "text": [
            "[nltk_data] Downloading package stopwords to /root/nltk_data...\n",
            "[nltk_data]   Package stopwords is already up-to-date!\n",
            "[nltk_data] Downloading package wordnet to /root/nltk_data...\n",
            "[nltk_data]   Package wordnet is already up-to-date!\n"
          ]
        }
      ],
      "source": [
        "import nltk\n",
        "nltk.download('stopwords')\n",
        "nltk.download('wordnet')\n",
        "from nltk.corpus import stopwords\n",
        "import re\n",
        "import re\n",
        "exclude_word = ['not']\n",
        "stop = set(stopwords.words(\"english\"))\n",
        "filter_words = [word for word in stop if word not in exclude_word]\n"
      ]
    },
    {
      "cell_type": "code",
      "execution_count": 8,
      "metadata": {
        "id": "EK_0ebZ_MCdH"
      },
      "outputs": [],
      "source": [
        "import re\n",
        "def striphtml(data):\n",
        "    p = re.compile(r'<.*?>')\n",
        "    return p.sub('', data)\n",
        "\n",
        "def remove_stopwords(text):\n",
        "    filtered_words = \" \".join([word.lower() for word in text.split() if word.lower() not in filter_words])\n",
        "    filtered_words = striphtml(filtered_words)\n",
        "    return filtered_words"
      ]
    },
    {
      "cell_type": "code",
      "execution_count": 9,
      "metadata": {
        "colab": {
          "base_uri": "https://localhost:8080/"
        },
        "id": "4H5QA1wuMCdI",
        "outputId": "62adec52-526d-4d60-b4de-e47c5d44d290"
      },
      "outputs": [
        {
          "output_type": "execute_result",
          "data": {
            "text/plain": [
              "0     amazing actor director  father came scottish ...\n",
              "1     hair big lots boobs  men wear cut  shirts sho...\n",
              "2     working watch feeble excuse film must looked ...\n",
              "3      storytelling traditional sort many years eve...\n",
              "4     watched burn felt better anything else i've e...\n",
              "Name: Reviews, dtype: object"
            ]
          },
          "metadata": {},
          "execution_count": 9
        }
      ],
      "source": [
        "# Apply the function to your text data\n",
        "x_train = x_train.apply(remove_stopwords)\n",
        "x_test =  x_test.apply(remove_stopwords)\n",
        "x_train.head()"
      ]
    },
    {
      "cell_type": "code",
      "execution_count": null,
      "metadata": {
        "id": "ljIJwtUUMCdJ"
      },
      "outputs": [],
      "source": [
        "# # Apply TF-IDF vectorizer.\n",
        "vectorizer = TfidfVectorizer()\n",
        "X_train = vectorizer.fit_transform(x_train)\n",
        "X_test = vectorizer.transform(x_test)\n"
      ]
    },
    {
      "cell_type": "code",
      "execution_count": 11,
      "metadata": {
        "colab": {
          "base_uri": "https://localhost:8080/"
        },
        "id": "ZzMd_ZXNMCdJ",
        "outputId": "a9d6adfa-7717-47dc-f144-280610ab0184"
      },
      "outputs": [
        {
          "output_type": "execute_result",
          "data": {
            "text/plain": [
              "['tfidf_vectorizer.pkl']"
            ]
          },
          "metadata": {},
          "execution_count": 11
        }
      ],
      "source": [
        "import joblib\n",
        "joblib.dump(vectorizer, \"tfidf_vectorizer.pkl\")\n"
      ]
    },
    {
      "cell_type": "code",
      "execution_count": 12,
      "metadata": {
        "colab": {
          "base_uri": "https://localhost:8080/",
          "height": 74
        },
        "id": "UEIOzedNMCdJ",
        "outputId": "c1536733-294c-4161-e016-03a81706939f"
      },
      "outputs": [
        {
          "output_type": "execute_result",
          "data": {
            "text/plain": [
              "LogisticRegression(max_iter=1000)"
            ],
            "text/html": [
              "<style>#sk-container-id-1 {color: black;background-color: white;}#sk-container-id-1 pre{padding: 0;}#sk-container-id-1 div.sk-toggleable {background-color: white;}#sk-container-id-1 label.sk-toggleable__label {cursor: pointer;display: block;width: 100%;margin-bottom: 0;padding: 0.3em;box-sizing: border-box;text-align: center;}#sk-container-id-1 label.sk-toggleable__label-arrow:before {content: \"▸\";float: left;margin-right: 0.25em;color: #696969;}#sk-container-id-1 label.sk-toggleable__label-arrow:hover:before {color: black;}#sk-container-id-1 div.sk-estimator:hover label.sk-toggleable__label-arrow:before {color: black;}#sk-container-id-1 div.sk-toggleable__content {max-height: 0;max-width: 0;overflow: hidden;text-align: left;background-color: #f0f8ff;}#sk-container-id-1 div.sk-toggleable__content pre {margin: 0.2em;color: black;border-radius: 0.25em;background-color: #f0f8ff;}#sk-container-id-1 input.sk-toggleable__control:checked~div.sk-toggleable__content {max-height: 200px;max-width: 100%;overflow: auto;}#sk-container-id-1 input.sk-toggleable__control:checked~label.sk-toggleable__label-arrow:before {content: \"▾\";}#sk-container-id-1 div.sk-estimator input.sk-toggleable__control:checked~label.sk-toggleable__label {background-color: #d4ebff;}#sk-container-id-1 div.sk-label input.sk-toggleable__control:checked~label.sk-toggleable__label {background-color: #d4ebff;}#sk-container-id-1 input.sk-hidden--visually {border: 0;clip: rect(1px 1px 1px 1px);clip: rect(1px, 1px, 1px, 1px);height: 1px;margin: -1px;overflow: hidden;padding: 0;position: absolute;width: 1px;}#sk-container-id-1 div.sk-estimator {font-family: monospace;background-color: #f0f8ff;border: 1px dotted black;border-radius: 0.25em;box-sizing: border-box;margin-bottom: 0.5em;}#sk-container-id-1 div.sk-estimator:hover {background-color: #d4ebff;}#sk-container-id-1 div.sk-parallel-item::after {content: \"\";width: 100%;border-bottom: 1px solid gray;flex-grow: 1;}#sk-container-id-1 div.sk-label:hover label.sk-toggleable__label {background-color: #d4ebff;}#sk-container-id-1 div.sk-serial::before {content: \"\";position: absolute;border-left: 1px solid gray;box-sizing: border-box;top: 0;bottom: 0;left: 50%;z-index: 0;}#sk-container-id-1 div.sk-serial {display: flex;flex-direction: column;align-items: center;background-color: white;padding-right: 0.2em;padding-left: 0.2em;position: relative;}#sk-container-id-1 div.sk-item {position: relative;z-index: 1;}#sk-container-id-1 div.sk-parallel {display: flex;align-items: stretch;justify-content: center;background-color: white;position: relative;}#sk-container-id-1 div.sk-item::before, #sk-container-id-1 div.sk-parallel-item::before {content: \"\";position: absolute;border-left: 1px solid gray;box-sizing: border-box;top: 0;bottom: 0;left: 50%;z-index: -1;}#sk-container-id-1 div.sk-parallel-item {display: flex;flex-direction: column;z-index: 1;position: relative;background-color: white;}#sk-container-id-1 div.sk-parallel-item:first-child::after {align-self: flex-end;width: 50%;}#sk-container-id-1 div.sk-parallel-item:last-child::after {align-self: flex-start;width: 50%;}#sk-container-id-1 div.sk-parallel-item:only-child::after {width: 0;}#sk-container-id-1 div.sk-dashed-wrapped {border: 1px dashed gray;margin: 0 0.4em 0.5em 0.4em;box-sizing: border-box;padding-bottom: 0.4em;background-color: white;}#sk-container-id-1 div.sk-label label {font-family: monospace;font-weight: bold;display: inline-block;line-height: 1.2em;}#sk-container-id-1 div.sk-label-container {text-align: center;}#sk-container-id-1 div.sk-container {/* jupyter's `normalize.less` sets `[hidden] { display: none; }` but bootstrap.min.css set `[hidden] { display: none !important; }` so we also need the `!important` here to be able to override the default hidden behavior on the sphinx rendered scikit-learn.org. See: https://github.com/scikit-learn/scikit-learn/issues/21755 */display: inline-block !important;position: relative;}#sk-container-id-1 div.sk-text-repr-fallback {display: none;}</style><div id=\"sk-container-id-1\" class=\"sk-top-container\"><div class=\"sk-text-repr-fallback\"><pre>LogisticRegression(max_iter=1000)</pre><b>In a Jupyter environment, please rerun this cell to show the HTML representation or trust the notebook. <br />On GitHub, the HTML representation is unable to render, please try loading this page with nbviewer.org.</b></div><div class=\"sk-container\" hidden><div class=\"sk-item\"><div class=\"sk-estimator sk-toggleable\"><input class=\"sk-toggleable__control sk-hidden--visually\" id=\"sk-estimator-id-1\" type=\"checkbox\" checked><label for=\"sk-estimator-id-1\" class=\"sk-toggleable__label sk-toggleable__label-arrow\">LogisticRegression</label><div class=\"sk-toggleable__content\"><pre>LogisticRegression(max_iter=1000)</pre></div></div></div></div></div>"
            ]
          },
          "metadata": {},
          "execution_count": 12
        }
      ],
      "source": [
        "\n",
        "# Build Logistic Regression model\n",
        "lr_model = LogisticRegression(max_iter=1000)\n",
        "lr_model.fit(X_train, y_train)"
      ]
    },
    {
      "cell_type": "code",
      "execution_count": 13,
      "metadata": {
        "colab": {
          "base_uri": "https://localhost:8080/"
        },
        "id": "EpZelCUGMCdK",
        "outputId": "6391f478-42ae-4242-fccd-15dd21688aed"
      },
      "outputs": [
        {
          "output_type": "execute_result",
          "data": {
            "text/plain": [
              "0.8644162477056898"
            ]
          },
          "metadata": {},
          "execution_count": 13
        }
      ],
      "source": [
        "# Evaluate the model\n",
        "from sklearn.metrics import f1_score\n",
        "y_pred_lr = lr_model.predict(X_test)\n",
        "f1_score(y_pred_lr, y_test)\n",
        "\n"
      ]
    },
    {
      "cell_type": "code",
      "execution_count": 14,
      "metadata": {
        "colab": {
          "base_uri": "https://localhost:8080/"
        },
        "id": "UfgvB7L0MCdK",
        "outputId": "47aa2ad4-40ef-4d4f-9cda-7d7745d3215d"
      },
      "outputs": [
        {
          "output_type": "execute_result",
          "data": {
            "text/plain": [
              "0.86408"
            ]
          },
          "metadata": {},
          "execution_count": 14
        }
      ],
      "source": [
        "accuracy_lr = (y_test == y_pred_lr).mean()\n",
        "accuracy_lr"
      ]
    },
    {
      "cell_type": "code",
      "execution_count": 15,
      "metadata": {
        "colab": {
          "base_uri": "https://localhost:8080/"
        },
        "id": "SLcOQf85MCdK",
        "outputId": "c210b473-2286-4bc1-f930-a151dece5506"
      },
      "outputs": [
        {
          "output_type": "execute_result",
          "data": {
            "text/plain": [
              "['sentiment_analysis_model.pkl']"
            ]
          },
          "metadata": {},
          "execution_count": 15
        }
      ],
      "source": [
        "import joblib\n",
        "joblib.dump(lr_model, \"sentiment_analysis_model.pkl\")\n"
      ]
    },
    {
      "cell_type": "code",
      "execution_count": 16,
      "metadata": {
        "colab": {
          "base_uri": "https://localhost:8080/",
          "height": 410
        },
        "id": "_7CTRJp8MCdL",
        "outputId": "7afcaae1-682d-4ff3-97ab-3722500a6330"
      },
      "outputs": [
        {
          "output_type": "display_data",
          "data": {
            "text/plain": [
              "<Figure size 600x400 with 2 Axes>"
            ],
            "image/png": "[encoded data removed]"
          },
          "metadata": {}
        }
      ],
      "source": [
        "from matplotlib import pyplot as plt\n",
        "import seaborn as sn\n",
        "cm = confusion_matrix(y_test, y_pred_lr)\n",
        "# Plot the confusion matrix as a heatmap\n",
        "plt.figure(figsize=(6, 4))\n",
        "sn.heatmap(cm, annot=True, fmt=\"d\", cmap=\"Blues\", xticklabels=[\"Negative\", \"Positive\"], yticklabels=[\"Negative\", \"Positive\"])\n",
        "plt.xlabel('Predicted')\n",
        "plt.ylabel('True')\n",
        "plt.title('Confusion Matrix')\n",
        "plt.savefig('lr_cm.png')\n",
        "plt.show()"
      ]
    },
    {
      "cell_type": "code",
      "execution_count": 17,
      "metadata": {
        "colab": {
          "base_uri": "https://localhost:8080/"
        },
        "id": "RPRcTeG5MCdL",
        "outputId": "9c83291b-9ff0-492e-81be-b09428921d5a"
      },
      "outputs": [
        {
          "output_type": "stream",
          "name": "stdout",
          "text": [
            "Classification Report:\n",
            "              precision    recall  f1-score   support\n",
            "\n",
            "    negative       0.87      0.86      0.86     12500\n",
            "    positive       0.86      0.87      0.86     12500\n",
            "\n",
            "    accuracy                           0.86     25000\n",
            "   macro avg       0.86      0.86      0.86     25000\n",
            "weighted avg       0.86      0.86      0.86     25000\n",
            "\n"
          ]
        }
      ],
      "source": [
        "class_labels = ['negative', 'positive']\n",
        "\n",
        "classification_report_lr = classification_report(y_test, y_pred_lr, target_names=class_labels)\n",
        "print(\"Classification Report:\")\n",
        "print(classification_report_lr)"
      ]
    },
    {
      "cell_type": "code",
      "execution_count": 18,
      "metadata": {
        "id": "umgwLYR5MCdL"
      },
      "outputs": [],
      "source": [
        "# Predict sentiments using the trained model\n",
        "input_text = [ \"This movie is worst!\",\n",
        "              \"Wow Amazing Eposide\",\n",
        "              \"This movie was amazing! I loved every moment of it.\",\n",
        "              \"The title doesn't appear on screen until 40 minutes into the movie.\"]\n",
        "input_text_vectorized = vectorizer.transform(input_text)\n",
        "predicted_sentiments = lr_model.predict(input_text_vectorized)"
      ]
    },
    {
      "cell_type": "code",
      "execution_count": 19,
      "metadata": {
        "colab": {
          "base_uri": "https://localhost:8080/"
        },
        "id": "h_Z_a6P_MCdL",
        "outputId": "01f02bed-eb3e-4ba0-8b3e-f0a8fd51ca6c"
      },
      "outputs": [
        {
          "output_type": "stream",
          "name": "stdout",
          "text": [
            "Text: This movie is worst!\n",
            "Predicted Sentiment: negative\n",
            "\n",
            "Text: Wow Amazing Eposide\n",
            "Predicted Sentiment: positive\n",
            "\n",
            "Text: This movie was amazing! I loved every moment of it.\n",
            "Predicted Sentiment: positive\n",
            "\n",
            "Text: The title doesn't appear on screen until 40 minutes into the movie.\n",
            "Predicted Sentiment: negative\n",
            "\n"
          ]
        }
      ],
      "source": [
        "# Print the predictions\n",
        "for text, sentiment in zip(input_text, predicted_sentiments):\n",
        "    sentiment = 'positive' if sentiment == 1 else 'negative'\n",
        "\n",
        "    print(f\"Text: {text}\\nPredicted Sentiment: {sentiment}\\n\")"
      ]
    },
    {
      "cell_type": "code",
      "execution_count": 19,
      "metadata": {
        "id": "TcaiA4L5MCdM"
      },
      "outputs": [],
      "source": [
        "\n"
      ]
    },
    {
      "cell_type": "markdown",
      "metadata": {
        "id": "bz-EOP6GMCdM"
      },
      "source": [
        "### *LSTM*"
      ]
    },
    {
      "cell_type": "code",
      "execution_count": 20,
      "metadata": {
        "id": "HhmgKMUeMCdN"
      },
      "outputs": [],
      "source": [
        "from keras.models import Sequential\n",
        "from keras.layers import Embedding, LSTM, Dropout, Dense, Bidirectional, BatchNormalization, TextVectorization\n",
        "from keras.optimizers import Adam\n",
        "from keras.callbacks import EarlyStopping, ModelCheckpoint\n",
        "from keras.regularizers import l2"
      ]
    },
    {
      "cell_type": "code",
      "source": [],
      "metadata": {
        "id": "9zRzj19ICJsu"
      },
      "execution_count": 20,
      "outputs": []
    },
    {
      "cell_type": "code",
      "execution_count": 21,
      "metadata": {
        "id": "u1wTCkuAMCdN"
      },
      "outputs": [],
      "source": [
        "vectorize_layer = TextVectorization(\n",
        " max_tokens=1000,\n",
        " output_mode='int',\n",
        " output_sequence_length=120\n",
        " )\n",
        "\n",
        "vectorize_layer.adapt(x_train)"
      ]
    },
    {
      "cell_type": "code",
      "execution_count": 22,
      "metadata": {
        "colab": {
          "base_uri": "https://localhost:8080/"
        },
        "id": "PD0oU5kVMCdO",
        "outputId": "32b1c237-f3f8-41d9-cc5f-b16a65f62a8a"
      },
      "outputs": [
        {
          "output_type": "execute_result",
          "data": {
            "text/plain": [
              "<tf.Tensor: shape=(25000, 120), dtype=int64, numpy=\n",
              "array([[395, 173,  71, ...,   0,   0,   0],\n",
              "       [931,  98, 650, ...,   0,   0,   0],\n",
              "       [646,  33,   1, ...,   0,   0,   0],\n",
              "       ...,\n",
              "       [  1,  19,   1, ...,   0,   0,   0],\n",
              "       [ 11,  54, 289, ...,   0,   0,   0],\n",
              "       [161, 582,   1, ...,   0,   0,   0]])>"
            ]
          },
          "metadata": {},
          "execution_count": 22
        }
      ],
      "source": [
        "X_train_vec = vectorize_layer(x_train)\n",
        "X_test_vec = vectorize_layer(x_test)\n",
        "X_train_vec"
      ]
    },
    {
      "cell_type": "code",
      "execution_count": 23,
      "metadata": {
        "id": "H5Lg0jN3MCdO"
      },
      "outputs": [],
      "source": [
        "# Create the model\n",
        "lstm_model = Sequential()\n",
        "lstm_model.add(Embedding(1000, 64, input_length=120))\n",
        "lstm_model.add(Bidirectional(LSTM(64, return_sequences=True)))\n",
        "lstm_model.add(BatchNormalization())\n",
        "lstm_model.add(Dropout(0.7))\n",
        "lstm_model.add(Bidirectional(LSTM(32, kernel_regularizer=l2(0.1), recurrent_regularizer=l2(0.1))))\n",
        "lstm_model.add(BatchNormalization())\n",
        "lstm_model.add(Dense(16, activation='relu'))\n",
        "lstm_model.add(Dropout(0.5))\n",
        "lstm_model.add(Dense(1, activation='sigmoid'))\n",
        "\n",
        "\n",
        "lstm_model.compile(optimizer='adam', loss='binary_crossentropy', metrics=['accuracy'])"
      ]
    },
    {
      "cell_type": "code",
      "execution_count": 24,
      "metadata": {
        "colab": {
          "base_uri": "https://localhost:8080/"
        },
        "id": "6-i6JKfYMCdP",
        "outputId": "2cc8951b-b5e6-4488-801b-3a9993468467"
      },
      "outputs": [
        {
          "output_type": "stream",
          "name": "stdout",
          "text": [
            "Epoch 1/30\n",
            "313/313 [==============================] - 40s 92ms/step - loss: 5.7554 - accuracy: 0.6898 - val_loss: 0.7161 - val_accuracy: 0.7578\n",
            "Epoch 2/30\n",
            "313/313 [==============================] - 12s 39ms/step - loss: 0.4816 - accuracy: 0.8073 - val_loss: 0.4927 - val_accuracy: 0.7948\n",
            "Epoch 3/30\n",
            "313/313 [==============================] - 8s 27ms/step - loss: 0.4535 - accuracy: 0.8176 - val_loss: 0.4529 - val_accuracy: 0.8164\n",
            "Epoch 4/30\n",
            "313/313 [==============================] - 9s 29ms/step - loss: 0.4403 - accuracy: 0.8226 - val_loss: 0.4615 - val_accuracy: 0.8130\n",
            "Epoch 5/30\n",
            "313/313 [==============================] - 9s 30ms/step - loss: 0.4264 - accuracy: 0.8290 - val_loss: 0.4479 - val_accuracy: 0.8126\n",
            "Epoch 6/30\n",
            "313/313 [==============================] - 8s 27ms/step - loss: 0.4113 - accuracy: 0.8340 - val_loss: 0.4268 - val_accuracy: 0.8262\n",
            "Epoch 7/30\n",
            "313/313 [==============================] - 9s 28ms/step - loss: 0.4032 - accuracy: 0.8418 - val_loss: 0.5436 - val_accuracy: 0.7904\n",
            "Epoch 8/30\n",
            "313/313 [==============================] - 8s 27ms/step - loss: 0.3900 - accuracy: 0.8439 - val_loss: 0.5185 - val_accuracy: 0.8040\n",
            "Epoch 9/30\n",
            "313/313 [==============================] - 8s 26ms/step - loss: 0.3752 - accuracy: 0.8524 - val_loss: 0.4555 - val_accuracy: 0.8156\n",
            "Epoch 10/30\n",
            "313/313 [==============================] - 8s 26ms/step - loss: 0.3661 - accuracy: 0.8522 - val_loss: 0.5316 - val_accuracy: 0.8002\n",
            "Epoch 11/30\n",
            "313/313 [==============================] - ETA: 0s - loss: 0.3595 - accuracy: 0.8612Restoring model weights from the end of the best epoch: 6.\n",
            "313/313 [==============================] - 9s 29ms/step - loss: 0.3595 - accuracy: 0.8612 - val_loss: 0.4763 - val_accuracy: 0.8174\n",
            "Epoch 11: early stopping\n"
          ]
        }
      ],
      "source": [
        "# Define callbacks\n",
        "early_stopping = EarlyStopping(patience=5, verbose = 2, restore_best_weights=True)\n",
        "# checkpoint = ModelCheckpoint('lstm_model.h5', save_best_only=True)\n",
        "\n",
        "# Train the model\n",
        "history = lstm_model.fit(X_train_vec, y_train, epochs=30, batch_size=64, validation_split=0.2,\n",
        "                         callbacks=[early_stopping])"
      ]
    },
    {
      "cell_type": "code",
      "execution_count": 25,
      "metadata": {
        "colab": {
          "base_uri": "https://localhost:8080/",
          "height": 434
        },
        "id": "o9CUkZF4MCdQ",
        "outputId": "3714deb5-3652-47c0-8b98-023316de5eff"
      },
      "outputs": [
        {
          "output_type": "display_data",
          "data": {
            "text/plain": [
              "<Figure size 640x480 with 1 Axes>"
            ],
            "image/png": "[encoded data removed]"
          },
          "metadata": {}
        }
      ],
      "source": [
        "import matplotlib.pyplot as plt\n",
        "plt.plot(history.history['loss'], label = 'Train loss')\n",
        "plt.plot(history.history['val_loss'], label = 'Valid loss')\n",
        "plt.legend()\n",
        "plt.savefig('lstm_trian_val_loss.png')\n",
        "plt.show()"
      ]
    },
    {
      "cell_type": "code",
      "source": [
        "import matplotlib.pyplot as plt\n",
        "plt.plot(history.history['accuracy'], label = 'Train accuracy')\n",
        "plt.plot(history.history['val_accuracy'], label = 'Valid accuracy')\n",
        "plt.legend()\n",
        "plt.show()"
      ],
      "metadata": {
        "id": "eFIJU-mV_x5i",
        "outputId": "d21ebbe2-f071-4bb1-8f02-9a0af8c808ce",
        "colab": {
          "base_uri": "https://localhost:8080/",
          "height": 430
        }
      },
      "execution_count": 26,
      "outputs": [
        {
          "output_type": "display_data",
          "data": {
            "text/plain": [
              "<Figure size 640x480 with 1 Axes>"
            ],
            "image/png": "[encoded data removed]"
          },
          "metadata": {}
        }
      ]
    },
    {
      "cell_type": "code",
      "execution_count": 27,
      "metadata": {
        "colab": {
          "base_uri": "https://localhost:8080/"
        },
        "id": "lihiWdzMMCdR",
        "outputId": "32d4d901-3339-4675-c830-cf48ee58c35f"
      },
      "outputs": [
        {
          "output_type": "stream",
          "name": "stdout",
          "text": [
            "782/782 [==============================] - 8s 11ms/step - loss: 0.4249 - accuracy: 0.8218\n"
          ]
        },
        {
          "output_type": "execute_result",
          "data": {
            "text/plain": [
              "0.8218399882316589"
            ]
          },
          "metadata": {},
          "execution_count": 27
        }
      ],
      "source": [
        "_, accuracy_lstm = lstm_model.evaluate(X_test_vec, y_test)\n",
        "accuracy_lstm"
      ]
    },
    {
      "cell_type": "code",
      "execution_count": 28,
      "metadata": {
        "colab": {
          "base_uri": "https://localhost:8080/"
        },
        "id": "YtY9l7owMCdS",
        "outputId": "38b85152-df7e-4307-ab1e-0dc432302c12"
      },
      "outputs": [
        {
          "output_type": "stream",
          "name": "stdout",
          "text": [
            "782/782 [==============================] - 9s 9ms/step\n"
          ]
        }
      ],
      "source": [
        "# Predict probabilities for the test set\n",
        "y_pred_probs = lstm_model.predict(X_test_vec)\n",
        "\n",
        "# Convert probabilities to binary predictions (0 or 1)\n",
        "y_pred = np.round(y_pred_probs).astype(int)\n"
      ]
    },
    {
      "cell_type": "code",
      "execution_count": 29,
      "metadata": {
        "colab": {
          "base_uri": "https://localhost:8080/",
          "height": 410
        },
        "id": "BJrr1gKlMCdT",
        "outputId": "dab950e6-0699-439b-f9a1-643538061ece"
      },
      "outputs": [
        {
          "output_type": "display_data",
          "data": {
            "text/plain": [
              "<Figure size 600x400 with 2 Axes>"
            ],
            "image/png": "[encoded data removed]"
          },
          "metadata": {}
        }
      ],
      "source": [
        "# Get the confusion matrix\n",
        "cm = confusion_matrix(y_test, y_pred)\n",
        "\n",
        "# Plot the confusion matrix as a heatmap\n",
        "plt.figure(figsize=(6, 4))\n",
        "sn.heatmap(cm, annot=True, fmt=\"d\", cmap=\"Blues\", xticklabels=[\"Negative\", \"Positive\"], yticklabels=[\"Negative\", \"Positive\"])\n",
        "plt.xlabel('Predicted')\n",
        "plt.ylabel('True')\n",
        "plt.title('Confusion Matrix')\n",
        "plt.savefig('lstm_cm.png')\n",
        "plt.show()\n"
      ]
    },
    {
      "cell_type": "code",
      "execution_count": 30,
      "metadata": {
        "colab": {
          "base_uri": "https://localhost:8080/"
        },
        "id": "NkFPp_UQMCdT",
        "outputId": "0fe7f0fa-5de9-441e-fcf2-2094ddcc4f99"
      },
      "outputs": [
        {
          "output_type": "stream",
          "name": "stdout",
          "text": [
            "Classification Report:\n",
            "              precision    recall  f1-score   support\n",
            "\n",
            "           0       0.84      0.80      0.82     12500\n",
            "           1       0.81      0.85      0.83     12500\n",
            "\n",
            "    accuracy                           0.82     25000\n",
            "   macro avg       0.82      0.82      0.82     25000\n",
            "weighted avg       0.82      0.82      0.82     25000\n",
            "\n"
          ]
        }
      ],
      "source": [
        "\n",
        "# Get the classification report\n",
        "report = classification_report(y_test, y_pred, zero_division=1)\n",
        "print(\"Classification Report:\")\n",
        "print(report)"
      ]
    },
    {
      "cell_type": "code",
      "execution_count": 31,
      "metadata": {
        "id": "6aEwJS-eMCdT"
      },
      "outputs": [],
      "source": [
        "# Predict sentiments using the trained model\n",
        "input_text = [ \"This movie is worst!\",\n",
        "              \"Wow Amazing Eposide\",\n",
        "              \"This movie was amazing! I loved every moment of it.\",\n",
        "              \"The title doesn't appear on screen until 40 minutes into the movie.\"]"
      ]
    },
    {
      "cell_type": "code",
      "execution_count": 32,
      "metadata": {
        "id": "zh5MR504MCdU"
      },
      "outputs": [],
      "source": [
        "vec = vectorize_layer(input_text)"
      ]
    },
    {
      "cell_type": "code",
      "execution_count": 33,
      "metadata": {
        "colab": {
          "base_uri": "https://localhost:8080/"
        },
        "id": "quQcOxxBMCdU",
        "outputId": "3942edab-5dbf-4b3e-ee08-e16388c7be85"
      },
      "outputs": [
        {
          "output_type": "stream",
          "name": "stdout",
          "text": [
            "1/1 [==============================] - 0s 28ms/step\n"
          ]
        }
      ],
      "source": [
        "pred = lstm_model.predict(vec)\n"
      ]
    },
    {
      "cell_type": "code",
      "execution_count": 34,
      "metadata": {
        "colab": {
          "base_uri": "https://localhost:8080/"
        },
        "id": "9kQaEQh1MCdU",
        "outputId": "5b4629b3-fcc3-467c-bad2-ab7405d95a1f"
      },
      "outputs": [
        {
          "output_type": "stream",
          "name": "stdout",
          "text": [
            "Text: This movie is worst!\n",
            "Predicted Sentiment: Negative\n",
            "\n",
            "Text: Wow Amazing Eposide\n",
            "Predicted Sentiment: Positive\n",
            "\n",
            "Text: This movie was amazing! I loved every moment of it.\n",
            "Predicted Sentiment: Positive\n",
            "\n",
            "Text: The title doesn't appear on screen until 40 minutes into the movie.\n",
            "Predicted Sentiment: Negative\n",
            "\n"
          ]
        }
      ],
      "source": [
        "# Print the predictions\n",
        "for text, sentiment in zip(input_text, pred):\n",
        "\n",
        "    if sentiment[0] > 0.5:\n",
        "        print(f\"Text: {text}\\nPredicted Sentiment: Positive\\n\")\n",
        "    else:\n",
        "        print(f\"Text: {text}\\nPredicted Sentiment: Negative\\n\")\n",
        "\n"
      ]
    },
    {
      "cell_type": "markdown",
      "metadata": {
        "id": "16NNA1hqMCdY"
      },
      "source": [
        "*Note:* Among the models above, LogisticRegression gives better results with accuracy of 86%.\n",
        "So. logistic Regression model was dumbed"
      ]
    },
    {
      "cell_type": "code",
      "source": [],
      "metadata": {
        "id": "QnC74EpW19gR"
      },
      "execution_count": 34,
      "outputs": []
    }
  ],
  "metadata": {
    "kernelspec": {
      "display_name": "Python 3",
      "name": "python3"
    },
    "language_info": {
      "codemirror_mode": {
        "name": "ipython",
        "version": 3
      },
      "file_extension": ".py",
      "mimetype": "text/x-python",
      "name": "python",
      "nbconvert_exporter": "python",
      "pygments_lexer": "ipython3",
      "version": "3.11.4"
    },
    "colab": {
      "provenance": [],
      "gpuType": "T4"
    },
    "accelerator": "GPU"
  },
  "nbformat": 4,
  "nbformat_minor": 0
}